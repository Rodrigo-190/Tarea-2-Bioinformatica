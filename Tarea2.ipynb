{
 "cells": [
  {
   "cell_type": "markdown",
   "metadata": {},
   "source": [
    "![Logotipo_Ikiam](https://user-images.githubusercontent.com/72926761/154404041-868188c1-fb66-4243-bf30-bc794a12b2df.png)\n",
    "# Universidad Regional Amazónica IKIAM\n",
    "#### Hernández Hurtado Arnoldd Rodrigo\n",
    "#### Bioinformatica - G01"
   ]
  },
  {
   "cell_type": "markdown",
   "metadata": {},
   "source": [
    "## T5_Mapa de Ciencia\n",
    "#### Basado en las sesiones de Visualización de datos y Expresiones resulares. Realice una adaptación de la solución del MAP OF SCIENCE. Se requiere dos adaptaciones para resolver esta actividad:\n",
    "\n",
    "- #### Buscar bibliografía de un tema de interés propio en la Página Web de PubMed.\n",
    "- #### Realizar el minado de autores por país (en el ejemplo se encuentra realziado por las ciudades de USA). Para asignar las ubicación geográfica de los centroides de cada país (latitud y longitud), utilice la tabla  Ubicación Geográfica de Países - Google Developer. Así como en la solución de referencia se señalan varias ciudades seleccionadas de USA, en su resolución señale/resalte a los siguientes países: USA, UK, Brazil, China, Australia, Norway.  \n"
   ]
  },
  {
   "cell_type": "code",
   "execution_count": 1,
   "metadata": {},
   "outputs": [],
   "source": [
    "import re\n",
    "import csv\n",
    "import itertools"
   ]
  },
  {
   "cell_type": "code",
   "execution_count": 2,
   "metadata": {},
   "outputs": [],
   "source": [
    "f = open('data/pubmed-planttissu-set.txt',errors = 'ignore')\n",
    "files = f.read()"
   ]
  },
  {
   "cell_type": "code",
   "execution_count": 3,
   "metadata": {},
   "outputs": [
    {
     "data": {
      "text/plain": [
       "40245556"
      ]
     },
     "execution_count": 3,
     "metadata": {},
     "output_type": "execute_result"
    }
   ],
   "source": [
    "len(files)"
   ]
  },
  {
   "cell_type": "code",
   "execution_count": 7,
   "metadata": {},
   "outputs": [],
   "source": [
    "File = re.sub(r\"\\n\\s{6}\", \" \" , files)"
   ]
  },
  {
   "cell_type": "code",
   "execution_count": 9,
   "metadata": {},
   "outputs": [],
   "source": [
    "My_files = re.findall(r\"\\,\\s[A-Z]+[A-z]{2,11}\\.\", File)\n",
    "unique_codes = list(set(My_files))\n",
    "unique_codes.sort()\n"
   ]
  },
  {
   "cell_type": "code",
   "execution_count": 10,
   "metadata": {},
   "outputs": [
    {
     "name": "stdout",
     "output_type": "stream",
     "text": [
      "[', ABB].', ', Aberdeen.', ', Acad.', ', Afghanistan.', ', Africa.', ', Agron.', ', Alabama.', ', Algeria.', ', Amarillo.', ', Ames.', ', Amsterdam.', ', Apdo.', ', Appelstr.', ', Argentina.', ', Arizona.', ', Armenia.', ', Australia.', ', Austria.', ', Avda.', ', Bac.', ', Bangladesh.', ', Bari.', ', Basel.', ', Beijing.', ', Belarus.', ', Belgaum.', ', Belgium.', ', Benin.', ', Bldg.', ', Blvd.', ', Bolivia.', ', Bonn.', ', Brasil.', ', Brazil.', ', Brig.', ', Brno.', ', Bul.', ', Bulgaria.', ', Butenandtstr.', ', CAAS.', ', CAS.', ', CEM.', ', CONICET.', ', Calif.', ', California.', ', Cambridge.', ', Cameroon.', ', Cameroun.', ', Can.', ', Canada.', ', Cauerstr.', ', Cep.', ', Cham.', ', Charleston.', ', Chennai.', ', Chile.', ', China.', ', China].', ', Chongqing.', ', Chunyi.', ', Col.', ', Colombia.', ', Colorado.', ', Columbia.', ', Columbus.', ', Congo.', ', Connecticut.', ', Contr.', ', Corrensstr.', ', Corvallis.', ', Croatia.', ', Crta.', ', Cryp.', ', Ctra.', ', Cuba.', ', Cyprus.', ', Czechia.', ', Davis.', ', Delhi.', ', Denmark.', ', Dept.', ', Depto.', ', Div.', ', Domagkstr.', ', Donguibogam.', ', Dpt.', ', Dpto.', ', Ecuador.', ', Edif.', ', Edo.', ', Egypt.', ', Elazig.', ', Engesserstr.', ', England.', ', Erw.', ', Esq.', ', Estonia.', ', Ethiopia.', ', Eucgr.', ', Fac.', ', Faculty.', ', Finland.', ', Firenze.', ', Fla.', ', Florida.', ', France.', ', Freiburg.', ', Fruwirthstr.', ', FtsZ.', ', GCS.', ', GGATT.', ', GSH.', ', Gainesville.', ', Geneva.', ', Georgia.', ', Germany.', ', Ghana.', ', Gov.', ', Govt.', ', Greece.', ', Grenada.', ', Gto.', ', Guangdong.', ', Guangzhou.', ', Guatemala.', ', HKSAR.', ', Hangzhou.', ', Hann.', ', Hebei.', ', Homestead.', ', Honduras.', ', Hubei.', ', Humboldtstr.', ', Hungary.', ', Iceland.', ', Illinois.', ', Illmi.', ', Inc.', ', India.', ', Indonesia.', ', Inst.', ', Iran.', ', Iraq.', ', Ireland.', ', Irving.', ', Israel.', ', Italy.', ', Jacq.', ', Jamaica.', ', Japan.', ', Johannesburg.', ', Jordan.', ', KSA.', ', Kaiserstr.', ', Karst.', ', Kenya.', ', Korea.', ', Kuwait.', ', Kyiv.', ', LLC.', ', LTD.', ', Lab.', ', Latvia.', ', Lebanon.', ', Liebigstr.', ', Lithuania.', ', Loc.', ', Long.', ', Ltd.', ', Luxembourg.', ', MOA.', ', Macedonia.', ', Madison.', ', Madrid.', ', Makkah.', ', Malawi.', ', Malaysia.', ', Mali.', ', Malta.', ', Manipur.', ', Mantova.', ', Maokai].', ', Martinistr.', ', Maryland.', ', Mass.', ', Mauritius.', ', Mexico.', ', Mich.', ', Michigan.', ', Milano.', ', Minist.', ', Minsk.', ', Missouri.', ', Mommsenstr.', ', Moneymaker.', ', Mongolia.', ', Montana.', ', Morocco.', ', Mozambique.', ', Myanmar.', ', Nanning.', ', Nepal.', ', Netherlands.', ', NeuN.', ', NewYork.', ', Nigeria.', ', Nil.', ', Nipponbare.', ', Norway.', ', Nos.', ', OMEGA.', ', Odense.', ', Ohio.', ', Ohnhorststr.', ', Oman.', ', Ont.', ', Oregon.', ', PCNA.', ', PPL.', ', PRC.', ', Pahang.', ', Pakistan.', ', Palermo.', ', Panama.', ', Penang.', ', Pennsylvania.', ', Peru.', ', Philippines.', ', Phong.', ', Pic.', ', Pisa.', ', Poland.', ', Portugal.', ', Poznan.', ', Prof.', ', Prosp.', ', Prov.', ', Pullman.', ', Qatar.', ', Que.', ', ROC.', ', Raleigh.', ', Ramularia.', ', Rawalpindi.', ', Ref.', ', Riverside.', ', Rod.', ', Roma.', ', Romania.', ', Russia.', ', Rwanda.', ', SCK.', ', Salem.', ', Schaenzlestr.', ', Schubertstr.', ', Scotland.', ', Sec.', ', Selangor.', ', Senegal.', ', Serbia.', ', Shanghai.', ', Shillong.', ', Shri.', ', Singapore.', ', Slovakia.', ', Slovenia.', ', Sobemovirus.', ', Sofia.', ', Spain.', ', Staudtstr.', ', Stillwater.', ', Stn.', ', Storrs.', ', Str.', ', Stud.', ', Sudan.', ', Summerb.', ', Sweden.', ', Switzerland.', ', Syria.', ', Syst.', ', TAIWAN.', ', Taipei.', ', Taiwan.', ', Tampa.', ', Tanzania.', ', Tennessee.', ', Tex.', ', Texas.', ', Thailand.', ', Tokyo.', ', Tucson.', ', Tunis.', ', Tunisia.', ', Tunisie.', ', Turkey.', ', UAE.', ', UDSA.', ', USA.', ', USDA.', ', Uganda.', ', Ukraine.', ', Univ.', ', Uppsala.', ', Urbana.', ', Uruguay.', ', Uzbekistan.', ', VEGF.', ', Vanuatu.', ', Venezuela.', ', Vic.', ', Vietnam.', ', Vol.', ', Wallingford.', ', Washington.', ', Weinheim.', ', Wenatchee.', ', Westf.', ', Wisconsin.', ', Wuhan.', ', Xiamen.', ', Yugoslavia.', ', Zhenjiang.', ', Zimbabwe.']\n"
     ]
    }
   ],
   "source": [
    "a = unique_codes\n",
    "print(a)"
   ]
  },
  {
   "cell_type": "code",
   "execution_count": 12,
   "metadata": {},
   "outputs": [],
   "source": [
    "r = unique_codes\n",
    "r.remove(', Acad.')\n",
    "r.remove(', Vol.')\n",
    "r.remove(', Agron.')\n",
    "r.remove(', Ames.')\n",
    "r.remove(', Apdo.') \n",
    "r.remove(', Appelstr.')\n",
    "r.remove(', Avda.')\n",
    "r.remove(', Bac.')\n",
    "r.remove(', Bari.')\n",
    "r.remove(', Basel.')\n",
    "r.remove(', Benin.')\n",
    "r.remove(', Bldg.')\n",
    "r.remove(', Blvd.')\n",
    "r.remove(', Bonn.')\n",
    "r.remove(', Brig.')\n",
    "r.remove(', Brno.')\n",
    "r.remove(', Butenandtstr.')\n",
    "r.remove(', CAAS.')\n",
    "r.remove(', CAS.')\n",
    "r.remove(', CEM.')\n",
    "r.remove(', CONICET.')\n",
    "r.remove(', Calif.')\n"
   ]
  },
  {
   "cell_type": "code",
   "execution_count": 13,
   "metadata": {},
   "outputs": [
    {
     "name": "stdout",
     "output_type": "stream",
     "text": [
      "[', Aberdeen.', ', Afghanistan.', ', Africa.', ', Alabama.', ', Algeria.', ', Amarillo.', ', Amsterdam.', ', Argentina.', ', Arizona.', ', Armenia.', ', Australia.', ', Austria.', ', Bangladesh.', ', Beijing.', ', Belarus.', ', Belgaum.', ', Belgium.', ', Bolivia.', ', Brasil.', ', Brazil.', ', Bul.', ', Bulgaria.', ', California.', ', Cambridge.', ', Cameroon.', ', Cameroun.', ', Can.', ', Canada.', ', Cauerstr.', ', Cep.', ', Cham.', ', Charleston.', ', Chennai.', ', Chile.', ', China.', ', China].', ', Chongqing.', ', Chunyi.', ', Col.', ', Colombia.', ', Colorado.', ', Columbia.', ', Columbus.', ', Congo.', ', Connecticut.', ', Contr.', ', Corrensstr.', ', Corvallis.', ', Croatia.', ', Crta.', ', Cryp.', ', Ctra.', ', Cuba.', ', Cyprus.', ', Czechia.', ', Davis.', ', Delhi.', ', Denmark.', ', Dept.', ', Depto.', ', Div.', ', Domagkstr.', ', Donguibogam.', ', Dpt.', ', Dpto.', ', Ecuador.', ', Edif.', ', Edo.', ', Egypt.', ', Elazig.', ', Engesserstr.', ', England.', ', Erw.', ', Esq.', ', Estonia.', ', Ethiopia.', ', Eucgr.', ', Fac.', ', Faculty.', ', Finland.', ', Firenze.', ', Fla.', ', Florida.', ', France.', ', Freiburg.', ', Fruwirthstr.', ', FtsZ.', ', GCS.', ', GGATT.', ', GSH.', ', Gainesville.', ', Geneva.', ', Georgia.', ', Germany.', ', Ghana.', ', Gov.', ', Govt.', ', Greece.', ', Grenada.', ', Gto.', ', Guangdong.', ', Guangzhou.', ', Guatemala.', ', HKSAR.', ', Hangzhou.', ', Hann.', ', Hebei.', ', Homestead.', ', Honduras.', ', Hubei.', ', Humboldtstr.', ', Hungary.', ', Iceland.', ', Illinois.', ', Illmi.', ', Inc.', ', India.', ', Indonesia.', ', Inst.', ', Iran.', ', Iraq.', ', Ireland.', ', Irving.', ', Israel.', ', Italy.', ', Jacq.', ', Jamaica.', ', Japan.', ', Johannesburg.', ', Jordan.', ', KSA.', ', Kaiserstr.', ', Karst.', ', Kenya.', ', Korea.', ', Kuwait.', ', Kyiv.', ', LLC.', ', LTD.', ', Lab.', ', Latvia.', ', Lebanon.', ', Liebigstr.', ', Lithuania.', ', Loc.', ', Long.', ', Ltd.', ', Luxembourg.', ', MOA.', ', Macedonia.', ', Madison.', ', Madrid.', ', Makkah.', ', Malawi.', ', Malaysia.', ', Mali.', ', Malta.', ', Manipur.', ', Mantova.', ', Maokai].', ', Martinistr.', ', Maryland.', ', Mass.', ', Mauritius.', ', Mexico.', ', Mich.', ', Michigan.', ', Milano.', ', Minist.', ', Minsk.', ', Missouri.', ', Mommsenstr.', ', Moneymaker.', ', Mongolia.', ', Montana.', ', Morocco.', ', Mozambique.', ', Myanmar.', ', Nanning.', ', Nepal.', ', Netherlands.', ', NeuN.', ', NewYork.', ', Nigeria.', ', Nil.', ', Nipponbare.', ', Norway.', ', Nos.', ', OMEGA.', ', Odense.', ', Ohio.', ', Ohnhorststr.', ', Oman.', ', Ont.', ', Oregon.', ', PCNA.', ', PPL.', ', PRC.', ', Pahang.', ', Pakistan.', ', Palermo.', ', Panama.', ', Penang.', ', Pennsylvania.', ', Peru.', ', Philippines.', ', Phong.', ', Pic.', ', Pisa.', ', Poland.', ', Portugal.', ', Poznan.', ', Prof.', ', Prosp.', ', Prov.', ', Pullman.', ', Qatar.', ', Que.', ', ROC.', ', Raleigh.', ', Ramularia.', ', Rawalpindi.', ', Ref.', ', Riverside.', ', Rod.', ', Roma.', ', Romania.', ', Russia.', ', Rwanda.', ', SCK.', ', Salem.', ', Schaenzlestr.', ', Schubertstr.', ', Scotland.', ', Sec.', ', Selangor.', ', Senegal.', ', Serbia.', ', Shanghai.', ', Shillong.', ', Shri.', ', Singapore.', ', Slovakia.', ', Slovenia.', ', Sobemovirus.', ', Sofia.', ', Spain.', ', Staudtstr.', ', Stillwater.', ', Stn.', ', Storrs.', ', Str.', ', Stud.', ', Sudan.', ', Summerb.', ', Sweden.', ', Switzerland.', ', Syria.', ', Syst.', ', TAIWAN.', ', Taipei.', ', Taiwan.', ', Tampa.', ', Tanzania.', ', Tennessee.', ', Tex.', ', Texas.', ', Thailand.', ', Tokyo.', ', Tucson.', ', Tunis.', ', Tunisia.', ', Tunisie.', ', Turkey.', ', UAE.', ', UDSA.', ', USA.', ', USDA.', ', Uganda.', ', Ukraine.', ', Univ.', ', Uppsala.', ', Urbana.', ', Uruguay.', ', Uzbekistan.', ', VEGF.', ', Vanuatu.', ', Venezuela.', ', Vic.', ', Vietnam.', ', Wallingford.', ', Washington.', ', Weinheim.', ', Wenatchee.', ', Westf.', ', Wisconsin.', ', Wuhan.', ', Xiamen.', ', Yugoslavia.', ', Zhenjiang.', ', Zimbabwe.']\n"
     ]
    }
   ],
   "source": [
    "print(r)"
   ]
  },
  {
   "cell_type": "code",
   "execution_count": 14,
   "metadata": {},
   "outputs": [],
   "source": [
    "a = \"\".join(unique_codes)\n",
    "b = a.split(\", \")\n",
    "c = \"\".join(b)\n",
    "d = c.split(\".\")"
   ]
  }
 ],
 "metadata": {
  "interpreter": {
   "hash": "245fcf91734be8c7f04f6e804be8977e6391fb94d1a18ae601bbfb95b826498f"
  },
  "kernelspec": {
   "display_name": "Python 3.9.10 64-bit (windows store)",
   "language": "python",
   "name": "python3"
  },
  "language_info": {
   "codemirror_mode": {
    "name": "ipython",
    "version": 3
   },
   "file_extension": ".py",
   "mimetype": "text/x-python",
   "name": "python",
   "nbconvert_exporter": "python",
   "pygments_lexer": "ipython3",
   "version": "3.9.10"
  },
  "orig_nbformat": 4
 },
 "nbformat": 4,
 "nbformat_minor": 2
}
