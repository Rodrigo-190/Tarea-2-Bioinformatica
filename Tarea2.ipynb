{
 "cells": [
  {
   "cell_type": "markdown",
   "metadata": {},
   "source": [
    "![Logotipo_Ikiam](https://user-images.githubusercontent.com/72926761/154404041-868188c1-fb66-4243-bf30-bc794a12b2df.png)\n",
    "# Universidad Regional Amazónica IKIAM\n",
    "#### Hernández Hurtado Arnoldd Rodrigo\n",
    "#### Bioinformatica - G01"
   ]
  },
  {
   "cell_type": "markdown",
   "metadata": {},
   "source": [
    "## T5_Mapa de Ciencia\n",
    "#### Basado en las sesiones de Visualización de datos y Expresiones resulares. Realice una adaptación de la solución del MAP OF SCIENCE. Se requiere dos adaptaciones para resolver esta actividad:\n",
    "\n",
    "- #### Buscar bibliografía de un tema de interés propio en la Página Web de PubMed.\n",
    "- #### Realizar el minado de autores por país (en el ejemplo se encuentra realziado por las ciudades de USA). Para asignar las ubicación geográfica de los centroides de cada país (latitud y longitud), utilice la tabla  Ubicación Geográfica de Países - Google Developer. Así como en la solución de referencia se señalan varias ciudades seleccionadas de USA, en su resolución señale/resalte a los siguientes países: USA, UK, Brazil, China, Australia, Norway.  \n"
   ]
  },
  {
   "cell_type": "code",
   "execution_count": 4,
   "metadata": {},
   "outputs": [],
   "source": [
    "import re\n",
    "import csv\n",
    "import itertools"
   ]
  },
  {
   "cell_type": "code",
   "execution_count": 5,
   "metadata": {},
   "outputs": [],
   "source": [
    "f = open('data/pubmed-planttissu-set.txt',errors = 'ignore')\n",
    "files = f.read()"
   ]
  },
  {
   "cell_type": "code",
   "execution_count": 6,
   "metadata": {},
   "outputs": [
    {
     "data": {
      "text/plain": [
       "40245556"
      ]
     },
     "execution_count": 6,
     "metadata": {},
     "output_type": "execute_result"
    }
   ],
   "source": [
    "len(files)"
   ]
  },
  {
   "cell_type": "code",
   "execution_count": 7,
   "metadata": {},
   "outputs": [],
   "source": [
    "File = re.sub(r\"\\n\\s{6}\", \" \" , files)"
   ]
  },
  {
   "cell_type": "code",
   "execution_count": 8,
   "metadata": {},
   "outputs": [],
   "source": [
    "My_files = re.findall(r\"\\,\\s[A-Z]+[A-z]{2,11}\\.\", File)\n",
    "unique_codes = list(set(My_files))\n",
    "unique_codes.sort()\n"
   ]
  },
  {
   "cell_type": "code",
   "execution_count": 9,
   "metadata": {},
   "outputs": [
    {
     "name": "stdout",
     "output_type": "stream",
     "text": [
      "[', ABB].', ', Aberdeen.', ', Acad.', ', Afghanistan.', ', Africa.', ', Agron.', ', Alabama.', ', Algeria.', ', Amarillo.', ', Ames.', ', Amsterdam.', ', Apdo.', ', Appelstr.', ', Argentina.', ', Arizona.', ', Armenia.', ', Australia.', ', Austria.', ', Avda.', ', Bac.', ', Bangladesh.', ', Bari.', ', Basel.', ', Beijing.', ', Belarus.', ', Belgaum.', ', Belgium.', ', Benin.', ', Bldg.', ', Blvd.', ', Bolivia.', ', Bonn.', ', Brasil.', ', Brazil.', ', Brig.', ', Brno.', ', Bul.', ', Bulgaria.', ', Butenandtstr.', ', CAAS.', ', CAS.', ', CEM.', ', CONICET.', ', Calif.', ', California.', ', Cambridge.', ', Cameroon.', ', Cameroun.', ', Can.', ', Canada.', ', Cauerstr.', ', Cep.', ', Cham.', ', Charleston.', ', Chennai.', ', Chile.', ', China.', ', China].', ', Chongqing.', ', Chunyi.', ', Col.', ', Colombia.', ', Colorado.', ', Columbia.', ', Columbus.', ', Congo.', ', Connecticut.', ', Contr.', ', Corrensstr.', ', Corvallis.', ', Croatia.', ', Crta.', ', Cryp.', ', Ctra.', ', Cuba.', ', Cyprus.', ', Czechia.', ', Davis.', ', Delhi.', ', Denmark.', ', Dept.', ', Depto.', ', Div.', ', Domagkstr.', ', Donguibogam.', ', Dpt.', ', Dpto.', ', Ecuador.', ', Edif.', ', Edo.', ', Egypt.', ', Elazig.', ', Engesserstr.', ', England.', ', Erw.', ', Esq.', ', Estonia.', ', Ethiopia.', ', Eucgr.', ', Fac.', ', Faculty.', ', Finland.', ', Firenze.', ', Fla.', ', Florida.', ', France.', ', Freiburg.', ', Fruwirthstr.', ', FtsZ.', ', GCS.', ', GGATT.', ', GSH.', ', Gainesville.', ', Geneva.', ', Georgia.', ', Germany.', ', Ghana.', ', Gov.', ', Govt.', ', Greece.', ', Grenada.', ', Gto.', ', Guangdong.', ', Guangzhou.', ', Guatemala.', ', HKSAR.', ', Hangzhou.', ', Hann.', ', Hebei.', ', Homestead.', ', Honduras.', ', Hubei.', ', Humboldtstr.', ', Hungary.', ', Iceland.', ', Illinois.', ', Illmi.', ', Inc.', ', India.', ', Indonesia.', ', Inst.', ', Iran.', ', Iraq.', ', Ireland.', ', Irving.', ', Israel.', ', Italy.', ', Jacq.', ', Jamaica.', ', Japan.', ', Johannesburg.', ', Jordan.', ', KSA.', ', Kaiserstr.', ', Karst.', ', Kenya.', ', Korea.', ', Kuwait.', ', Kyiv.', ', LLC.', ', LTD.', ', Lab.', ', Latvia.', ', Lebanon.', ', Liebigstr.', ', Lithuania.', ', Loc.', ', Long.', ', Ltd.', ', Luxembourg.', ', MOA.', ', Macedonia.', ', Madison.', ', Madrid.', ', Makkah.', ', Malawi.', ', Malaysia.', ', Mali.', ', Malta.', ', Manipur.', ', Mantova.', ', Maokai].', ', Martinistr.', ', Maryland.', ', Mass.', ', Mauritius.', ', Mexico.', ', Mich.', ', Michigan.', ', Milano.', ', Minist.', ', Minsk.', ', Missouri.', ', Mommsenstr.', ', Moneymaker.', ', Mongolia.', ', Montana.', ', Morocco.', ', Mozambique.', ', Myanmar.', ', Nanning.', ', Nepal.', ', Netherlands.', ', NeuN.', ', NewYork.', ', Nigeria.', ', Nil.', ', Nipponbare.', ', Norway.', ', Nos.', ', OMEGA.', ', Odense.', ', Ohio.', ', Ohnhorststr.', ', Oman.', ', Ont.', ', Oregon.', ', PCNA.', ', PPL.', ', PRC.', ', Pahang.', ', Pakistan.', ', Palermo.', ', Panama.', ', Penang.', ', Pennsylvania.', ', Peru.', ', Philippines.', ', Phong.', ', Pic.', ', Pisa.', ', Poland.', ', Portugal.', ', Poznan.', ', Prof.', ', Prosp.', ', Prov.', ', Pullman.', ', Qatar.', ', Que.', ', ROC.', ', Raleigh.', ', Ramularia.', ', Rawalpindi.', ', Ref.', ', Riverside.', ', Rod.', ', Roma.', ', Romania.', ', Russia.', ', Rwanda.', ', SCK.', ', Salem.', ', Schaenzlestr.', ', Schubertstr.', ', Scotland.', ', Sec.', ', Selangor.', ', Senegal.', ', Serbia.', ', Shanghai.', ', Shillong.', ', Shri.', ', Singapore.', ', Slovakia.', ', Slovenia.', ', Sobemovirus.', ', Sofia.', ', Spain.', ', Staudtstr.', ', Stillwater.', ', Stn.', ', Storrs.', ', Str.', ', Stud.', ', Sudan.', ', Summerb.', ', Sweden.', ', Switzerland.', ', Syria.', ', Syst.', ', TAIWAN.', ', Taipei.', ', Taiwan.', ', Tampa.', ', Tanzania.', ', Tennessee.', ', Tex.', ', Texas.', ', Thailand.', ', Tokyo.', ', Tucson.', ', Tunis.', ', Tunisia.', ', Tunisie.', ', Turkey.', ', UAE.', ', UDSA.', ', USA.', ', USDA.', ', Uganda.', ', Ukraine.', ', Univ.', ', Uppsala.', ', Urbana.', ', Uruguay.', ', Uzbekistan.', ', VEGF.', ', Vanuatu.', ', Venezuela.', ', Vic.', ', Vietnam.', ', Vol.', ', Wallingford.', ', Washington.', ', Weinheim.', ', Wenatchee.', ', Westf.', ', Wisconsin.', ', Wuhan.', ', Xiamen.', ', Yugoslavia.', ', Zhenjiang.', ', Zimbabwe.']\n"
     ]
    }
   ],
   "source": [
    "a = unique_codes\n",
    "print(a)"
   ]
  },
  {
   "cell_type": "code",
   "execution_count": 53,
   "metadata": {},
   "outputs": [],
   "source": [
    "r = unique_codes\n",
    "r.remove(', Rod.')\n",
    "r.remove(', Syst.')\n",
    "r.remove( ', Vic.')\n",
    "r.remove(', Prof.')\n",
    "r.remove(', Prov.')\n",
    "r.remove(', Ref.')\n",
    "r.remove( ', SCK.')\n",
    "r.remove(', Sec.')\n"
   ]
  },
  {
   "cell_type": "code",
   "execution_count": 54,
   "metadata": {},
   "outputs": [
    {
     "name": "stdout",
     "output_type": "stream",
     "text": [
      "[', Aberdeen.', ', Afghanistan.', ', Africa.', ', Alabama.', ', Algeria.', ', Amsterdam.', ', Argentina.', ', Arizona.', ', Armenia.', ', Australia.', ', Austria.', ', Bangladesh.', ', Beijing.', ', Belarus.', ', Belgaum.', ', Belgium.', ', Bolivia.', ', Brasil.', ', Brazil.', ', Bulgaria.', ', Cameroon.', ', Cameroun.', ', Canada.', ', Charleston.', ', Chennai.', ', Chile.', ', China.', ', China].', ', Chongqing.', ', Colombia.', ', Columbia.', ', Columbus.', ', Congo.', ', Connecticut.', ', Corvallis.', ', Croatia.', ', Cuba.', ', Czechia.', ', Davis.', ', Delhi.', ', Denmark.', ', Domagkstr.', ', Donguibogam.', ', Ecuador.', ', Egypt.', ', Elazig.', ', Engesserstr.', ', England.', ', Estonia.', ', Ethiopia.', ', Faculty.', ', Finland.', ', Firenze.', ', Fla.', ', Florida.', ', France.', ', Freiburg.', ', Fruwirthstr.', ', Gainesville.', ', Geneva.', ', Georgia.', ', Germany.', ', Ghana.', ', Gov.', ', Govt.', ', Greece.', ', Grenada.', ', Gto.', ', Guangdong.', ', Guangzhou.', ', Guatemala.', ', HKSAR.', ', Hangzhou.', ', Hann.', ', Hebei.', ', Homestead.', ', Honduras.', ', Hubei.', ', Humboldtstr.', ', Hungary.', ', Iceland.', ', Illinois.', ', Illmi.', ', Inc.', ', India.', ', Indonesia.', ', Inst.', ', Iran.', ', Iraq.', ', Ireland.', ', Irving.', ', Israel.', ', Italy.', ', Jacq.', ', Jamaica.', ', Japan.', ', Johannesburg.', ', Jordan.', ', KSA.', ', Kaiserstr.', ', Karst.', ', Kenya.', ', Korea.', ', Kuwait.', ', Kyiv.', ', LLC.', ', LTD.', ', Lab.', ', Latvia.', ', Lebanon.', ', Liebigstr.', ', Lithuania.', ', Loc.', ', Long.', ', Ltd.', ', Luxembourg.', ', MOA.', ', Macedonia.', ', Madison.', ', Madrid.', ', Makkah.', ', Malawi.', ', Malaysia.', ', Mali.', ', Malta.', ', Manipur.', ', Mantova.', ', Maokai].', ', Martinistr.', ', Maryland.', ', Mass.', ', Mauritius.', ', Mexico.', ', Mich.', ', Michigan.', ', Milano.', ', Minist.', ', Minsk.', ', Missouri.', ', Mommsenstr.', ', Moneymaker.', ', Mongolia.', ', Montana.', ', Morocco.', ', Mozambique.', ', Myanmar.', ', Nanning.', ', Nepal.', ', Netherlands.', ', NeuN.', ', NewYork.', ', Nigeria.', ', Nil.', ', Nipponbare.', ', Norway.', ', Nos.', ', OMEGA.', ', Odense.', ', Ohio.', ', Ohnhorststr.', ', Oman.', ', Ont.', ', Oregon.', ', PCNA.', ', PPL.', ', PRC.', ', Pahang.', ', Pakistan.', ', Palermo.', ', Panama.', ', Penang.', ', Pennsylvania.', ', Peru.', ', Philippines.', ', Pisa.', ', Poland.', ', Portugal.', ', Poznan.', ', Pullman.', ', Qatar.', ', Que.', ', Raleigh.', ', Ramularia.', ', Rawalpindi.', ', Riverside.', ', Roma.', ', Romania.', ', Russia.', ', Rwanda.', ', Salem.', ', Schaenzlestr.', ', Schubertstr.', ', Scotland.', ', Selangor.', ', Senegal.', ', Serbia.', ', Shanghai.', ', Shillong.', ', Singapore.', ', Slovakia.', ', Slovenia.', ', Sobemovirus.', ', Spain.', ', Staudtstr.', ', Stillwater.', ', Storrs.', ', Str.', ', Stud.', ', Sudan.', ', Summerb.', ', Sweden.', ', Switzerland.', ', Syria.', ', TAIWAN.', ', Taipei.', ', Taiwan.', ', Tampa.', ', Tanzania.', ', Tennessee.', ', Tex.', ', Texas.', ', Thailand.', ', Tokyo.', ', Tucson.', ', Tunis.', ', Tunisia.', ', Tunisie.', ', Turkey.', ', UAE.', ', UDSA.', ', USA.', ', USDA.', ', Uganda.', ', Ukraine.', ', Univ.', ', Uppsala.', ', Urbana.', ', Uruguay.', ', Uzbekistan.', ', VEGF.', ', Vanuatu.', ', Venezuela.', ', Vietnam.', ', Wallingford.', ', Washington.', ', Weinheim.', ', Wenatchee.', ', Westf.', ', Wisconsin.', ', Wuhan.', ', Xiamen.', ', Yugoslavia.', ', Zhenjiang.', ', Zimbabwe.']\n"
     ]
    }
   ],
   "source": [
    "print(r)"
   ]
  },
  {
   "cell_type": "code",
   "execution_count": 57,
   "metadata": {},
   "outputs": [],
   "source": [
    "a = \"\".join(unique_codes)\n",
    "b = a.split(\", \")\n",
    "c = \"\".join(b)\n",
    "unique_zipcodes = c.split(\".\")"
   ]
  },
  {
   "cell_type": "code",
   "execution_count": 58,
   "metadata": {},
   "outputs": [
    {
     "name": "stdout",
     "output_type": "stream",
     "text": [
      "[', Aberdeen.', ', Afghanistan.', ', Africa.', ', Alabama.', ', Algeria.', ', Amsterdam.', ', Argentina.', ', Arizona.', ', Australia.', ', Austria.', ', Bangladesh.', ', Beijing.', ', Belarus.', ', Belgaum.', ', Belgium.', ', Bolivia.', ', Brasil.', ', Brazil.', ', Bulgaria.', ', Cameroon.']\n"
     ]
    }
   ],
   "source": [
    "print(unique_codes[:20])"
   ]
  },
  {
   "cell_type": "code",
   "execution_count": 59,
   "metadata": {},
   "outputs": [
    {
     "data": {
      "text/plain": [
       "254"
      ]
     },
     "execution_count": 59,
     "metadata": {},
     "output_type": "execute_result"
    }
   ],
   "source": [
    "len(unique_zipcodes)"
   ]
  },
  {
   "cell_type": "code",
   "execution_count": 64,
   "metadata": {},
   "outputs": [
    {
     "data": {
      "text/html": [
       "<div>\n",
       "<style scoped>\n",
       "    .dataframe tbody tr th:only-of-type {\n",
       "        vertical-align: middle;\n",
       "    }\n",
       "\n",
       "    .dataframe tbody tr th {\n",
       "        vertical-align: top;\n",
       "    }\n",
       "\n",
       "    .dataframe thead th {\n",
       "        text-align: right;\n",
       "    }\n",
       "</style>\n",
       "<table border=\"1\" class=\"dataframe\">\n",
       "  <thead>\n",
       "    <tr style=\"text-align: right;\">\n",
       "      <th></th>\n",
       "      <th>ID País</th>\n",
       "      <th>Latitud</th>\n",
       "      <th>Longitud</th>\n",
       "      <th>Nombre</th>\n",
       "    </tr>\n",
       "  </thead>\n",
       "  <tbody>\n",
       "    <tr>\n",
       "      <th>0</th>\n",
       "      <td>AD</td>\n",
       "      <td>42.546245</td>\n",
       "      <td>1.601554</td>\n",
       "      <td>Andorra</td>\n",
       "    </tr>\n",
       "    <tr>\n",
       "      <th>1</th>\n",
       "      <td>AE</td>\n",
       "      <td>23.424076</td>\n",
       "      <td>53.847818</td>\n",
       "      <td>United Arab Emirates</td>\n",
       "    </tr>\n",
       "    <tr>\n",
       "      <th>2</th>\n",
       "      <td>AF</td>\n",
       "      <td>33.939110</td>\n",
       "      <td>67.709953</td>\n",
       "      <td>Afghanistan</td>\n",
       "    </tr>\n",
       "    <tr>\n",
       "      <th>3</th>\n",
       "      <td>AG</td>\n",
       "      <td>17.060816</td>\n",
       "      <td>-61.796428</td>\n",
       "      <td>Antigua and Barbuda</td>\n",
       "    </tr>\n",
       "    <tr>\n",
       "      <th>4</th>\n",
       "      <td>AI</td>\n",
       "      <td>18.220554</td>\n",
       "      <td>-63.068615</td>\n",
       "      <td>Anguilla</td>\n",
       "    </tr>\n",
       "    <tr>\n",
       "      <th>5</th>\n",
       "      <td>AL</td>\n",
       "      <td>41.153332</td>\n",
       "      <td>20.168331</td>\n",
       "      <td>Albania</td>\n",
       "    </tr>\n",
       "    <tr>\n",
       "      <th>6</th>\n",
       "      <td>AM</td>\n",
       "      <td>40.069099</td>\n",
       "      <td>45.038189</td>\n",
       "      <td>Armenia</td>\n",
       "    </tr>\n",
       "    <tr>\n",
       "      <th>7</th>\n",
       "      <td>AN</td>\n",
       "      <td>12.226079</td>\n",
       "      <td>-69.060087</td>\n",
       "      <td>Netherlands Antilles</td>\n",
       "    </tr>\n",
       "    <tr>\n",
       "      <th>8</th>\n",
       "      <td>AO</td>\n",
       "      <td>-11.202692</td>\n",
       "      <td>17.873887</td>\n",
       "      <td>Angola</td>\n",
       "    </tr>\n",
       "    <tr>\n",
       "      <th>9</th>\n",
       "      <td>AQ</td>\n",
       "      <td>-75.250973</td>\n",
       "      <td>-0.071389</td>\n",
       "      <td>Antarctica</td>\n",
       "    </tr>\n",
       "  </tbody>\n",
       "</table>\n",
       "</div>"
      ],
      "text/plain": [
       "  ID País    Latitud   Longitud                Nombre\n",
       "0      AD  42.546245   1.601554               Andorra\n",
       "1      AE  23.424076  53.847818  United Arab Emirates\n",
       "2      AF  33.939110  67.709953           Afghanistan\n",
       "3      AG  17.060816 -61.796428   Antigua and Barbuda\n",
       "4      AI  18.220554 -63.068615              Anguilla\n",
       "5      AL  41.153332  20.168331               Albania\n",
       "6      AM  40.069099  45.038189               Armenia\n",
       "7      AN  12.226079 -69.060087  Netherlands Antilles\n",
       "8      AO -11.202692  17.873887                Angola\n",
       "9      AQ -75.250973  -0.071389            Antarctica"
      ]
     },
     "execution_count": 64,
     "metadata": {},
     "output_type": "execute_result"
    }
   ],
   "source": [
    "import pandas as pd\n",
    "Coordenadas = pd.read_csv('data/data_Coordenadas.csv', engine='python', skipfooter=3)\n",
    "Coordenadas.columns = [\"ID País\", \"Latitud\", \"Longitud\", \"Nombre\"]\n",
    "Coordenadas.head(10)"
   ]
  },
  {
   "cell_type": "code",
   "execution_count": null,
   "metadata": {},
   "outputs": [],
   "source": []
  }
 ],
 "metadata": {
  "interpreter": {
   "hash": "245fcf91734be8c7f04f6e804be8977e6391fb94d1a18ae601bbfb95b826498f"
  },
  "kernelspec": {
   "display_name": "Python 3.9.10 64-bit (windows store)",
   "language": "python",
   "name": "python3"
  },
  "language_info": {
   "codemirror_mode": {
    "name": "ipython",
    "version": 3
   },
   "file_extension": ".py",
   "mimetype": "text/x-python",
   "name": "python",
   "nbconvert_exporter": "python",
   "pygments_lexer": "ipython3",
   "version": "3.9.10"
  },
  "orig_nbformat": 4
 },
 "nbformat": 4,
 "nbformat_minor": 2
}
